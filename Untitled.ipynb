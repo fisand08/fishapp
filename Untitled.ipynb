{
 "cells": [
  {
   "cell_type": "code",
   "execution_count": 1,
   "id": "870e2328-82a0-4a46-9645-8eec16903608",
   "metadata": {},
   "outputs": [],
   "source": [
    "import sqlite3\n",
    "import pandas as pd"
   ]
  },
  {
   "cell_type": "code",
   "execution_count": 2,
   "id": "2281e271-02a6-40b9-896a-fb93e0c1ffe2",
   "metadata": {},
   "outputs": [],
   "source": [
    "db_name = 'fishapp.db'  # Replace with your database name\n",
    "connection = sqlite3.connect(db_name)\n",
    "cursor = connection.cursor()"
   ]
  },
  {
   "cell_type": "code",
   "execution_count": 9,
   "id": "9bbb8a34-8752-4c65-86e0-3362e1002ebe",
   "metadata": {},
   "outputs": [],
   "source": [
    "sql_query = '''\n",
    "SELECT OWNER_ID, OWNER_NAME, OWNER_STREET, OWNER_PLZ, OWNER_CITY, OWNER_COUNTRY, OWNER_PUBLIC, OWNER_PUBLIC_INT\n",
    "FROM WATER_OWNERS\n",
    "WHERE OWNER_ID=21;\n",
    "'''\n"
   ]
  },
  {
   "cell_type": "code",
   "execution_count": 10,
   "id": "8433588a-83a1-4491-8626-d4ef4779b96a",
   "metadata": {},
   "outputs": [
    {
     "data": {
      "text/plain": [
       "<sqlite3.Cursor at 0x26bd37a47c0>"
      ]
     },
     "execution_count": 10,
     "metadata": {},
     "output_type": "execute_result"
    }
   ],
   "source": [
    "cursor.execute(sql_query)\n"
   ]
  },
  {
   "cell_type": "code",
   "execution_count": 11,
   "id": "aa774887-119f-441b-9e34-0643ea7392a2",
   "metadata": {},
   "outputs": [
    {
     "data": {
      "text/html": [
       "<div>\n",
       "<style scoped>\n",
       "    .dataframe tbody tr th:only-of-type {\n",
       "        vertical-align: middle;\n",
       "    }\n",
       "\n",
       "    .dataframe tbody tr th {\n",
       "        vertical-align: top;\n",
       "    }\n",
       "\n",
       "    .dataframe thead th {\n",
       "        text-align: right;\n",
       "    }\n",
       "</style>\n",
       "<table border=\"1\" class=\"dataframe\">\n",
       "  <thead>\n",
       "    <tr style=\"text-align: right;\">\n",
       "      <th></th>\n",
       "      <th>OWNER_ID</th>\n",
       "      <th>OWNER_NAME</th>\n",
       "      <th>OWNER_STREET</th>\n",
       "      <th>OWNER_PLZ</th>\n",
       "      <th>OWNER_CITY</th>\n",
       "      <th>OWNER_COUNTRY</th>\n",
       "      <th>OWNER_PUBLIC</th>\n",
       "      <th>OWNER_PUBLIC_INT</th>\n",
       "    </tr>\n",
       "  </thead>\n",
       "  <tbody>\n",
       "    <tr>\n",
       "      <th>0</th>\n",
       "      <td>21</td>\n",
       "      <td>Fischergilde Schämbelen Windisch</td>\n",
       "      <td>Rütelistr. 36</td>\n",
       "      <td>5417</td>\n",
       "      <td>Untersiggenthal</td>\n",
       "      <td>CH</td>\n",
       "      <td>FALSE</td>\n",
       "      <td>0</td>\n",
       "    </tr>\n",
       "  </tbody>\n",
       "</table>\n",
       "</div>"
      ],
      "text/plain": [
       "   OWNER_ID                        OWNER_NAME   OWNER_STREET OWNER_PLZ  \\\n",
       "0        21  Fischergilde Schämbelen Windisch  Rütelistr. 36     5417    \n",
       "\n",
       "        OWNER_CITY OWNER_COUNTRY OWNER_PUBLIC  OWNER_PUBLIC_INT  \n",
       "0  Untersiggenthal            CH        FALSE                 0  "
      ]
     },
     "execution_count": 11,
     "metadata": {},
     "output_type": "execute_result"
    }
   ],
   "source": [
    "# Fetch data and column names\n",
    "data = cursor.fetchall()  # Fetch all rows from the executed query\n",
    "columns = [desc[0] for desc in cursor.description]  # Get column names from cursor description\n",
    "\n",
    "# Create a pandas DataFrame\n",
    "df = pd.DataFrame(data, columns=columns)\n",
    "\n",
    "# Display the DataFrame\n",
    "df"
   ]
  }
 ],
 "metadata": {
  "kernelspec": {
   "display_name": "Python 3 (ipykernel)",
   "language": "python",
   "name": "python3"
  },
  "language_info": {
   "codemirror_mode": {
    "name": "ipython",
    "version": 3
   },
   "file_extension": ".py",
   "mimetype": "text/x-python",
   "name": "python",
   "nbconvert_exporter": "python",
   "pygments_lexer": "ipython3",
   "version": "3.11.5"
  }
 },
 "nbformat": 4,
 "nbformat_minor": 5
}
